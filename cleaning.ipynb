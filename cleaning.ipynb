###see Hadley's Tidy Data for good reminders on the scope for cleaning data

import pandas as pd
campaign = pd.read_csv('../data/datasets_505_1014_CandidateSummaryAction1.csv') #folder is titled data
campaign.head()

campaign_column = pd.melt(campaign, id_vars='deb_owe_by_com')
campaign_column.head()
campaign_column = pd.melt(campaign, id_vars='deb_owe_by_com', 
                          var_name='votes', 
                          value_name='total_votes')
campaign_column.head()

####################################################################################

#pandas.melt() formats a dataframe where each column will be given 
#a tag for the filtered respective columns. 
# id_vars is the column of ordinance
# var_name is the column we look to for the independent variable
# and value_name titles the column of the comparative or dependent resulting outcome. 

###Utilizing Daily Power Generation in India dataset for data cleaning:
## we've already imported pandas so we can continue

energy_lookup = pd.read_csv('../data/datasets_737822_1290921_file.csv')
energy_melt = pd.melt(energy_lookup,
                id_vars = ['Date',
                var_name = 'Hydro Generation Estimated (in MU)',
                value_name = 'Hydro Generation Actual (in MU)']
energy_melt.head()
energy_tidy = energy.melt.pivot_table(
                index=['Date', 'Region'],
                values='Hydro Generation Estimated (in MU)', 'Hydro Generation Estimated (in MU)'
 )
energy_tidy
energy_tidy.reset_index()


