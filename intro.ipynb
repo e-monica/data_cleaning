##mockup of how I plan to proceed for accessing different points of comparison

import pandas
df = pandas.read_csv('./election_campaign.csv,' sep='\t')
df.head() 

## should return first 5 rows with approx 10 columns (though it's approx 50 in total)

df.columns
df.index
df.values
type(df)
df.shape
df.info()

df['can_name']
candidate_name_df = df['can_name']
candidate_name_df.head()
type(candidate_name_df)

subset = df[['can_name', 'can_off_sta', 'winners']]
subset.head()
pandas.__version__

#knowing the version of pandas we're working with
#helps contribute to know whether it will be customary to use df.ix in place of df.loc or df.iloc

df.loc[2]
df.iloc[[2,0]]
df.iloc[2]
df.head()
#tests for values to retrieve any specific data we're looking for
#also confirmation that we've retrieved the right columns

subset = df.loc[:, ['winners', 'tot_rec']
subset.head()
df.loc[df['win'] == 'ROCHESTER\, LISA BLUNT', ['winners', 'tot_rec']]
df.loc[(df['win'] == 'ROCHESTER\, LISA BLUNT') & (df['tot_rec'] > 800_000), ['winners', 'tot_rec']]

